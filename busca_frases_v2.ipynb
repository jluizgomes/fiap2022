{
  "nbformat": 4,
  "nbformat_minor": 0,
  "metadata": {
    "colab": {
      "name": "busca_frases_v2.ipynb",
      "provenance": [],
      "authorship_tag": "ABX9TyMACak4ppQDAOqdkqDx98vv",
      "include_colab_link": true
    },
    "kernelspec": {
      "name": "python3",
      "display_name": "Python 3"
    },
    "language_info": {
      "name": "python"
    }
  },
  "cells": [
    {
      "cell_type": "markdown",
      "metadata": {
        "id": "view-in-github",
        "colab_type": "text"
      },
      "source": [
        "<a href=\"https://colab.research.google.com/github/jluizgomes/fiap2022/blob/main/busca_frases_v2.ipynb\" target=\"_parent\"><img src=\"https://colab.research.google.com/assets/colab-badge.svg\" alt=\"Open In Colab\"/></a>"
      ]
    },
    {
      "cell_type": "code",
      "execution_count": 1,
      "metadata": {
        "colab": {
          "base_uri": "https://localhost:8080/"
        },
        "id": "HBQE1nFLKen7",
        "outputId": "bcb19683-6f10-4e29-ad14-d134059adc48"
      },
      "outputs": [
        {
          "output_type": "stream",
          "name": "stdout",
          "text": [
            "Collecting fuzzywuzzy[speedup]\n",
            "  Downloading fuzzywuzzy-0.18.0-py2.py3-none-any.whl (18 kB)\n",
            "Collecting python-levenshtein>=0.12\n",
            "  Downloading python-Levenshtein-0.12.2.tar.gz (50 kB)\n",
            "\u001b[K     |████████████████████████████████| 50 kB 2.4 MB/s \n",
            "\u001b[?25hRequirement already satisfied: setuptools in /usr/local/lib/python3.7/dist-packages (from python-levenshtein>=0.12->fuzzywuzzy[speedup]) (57.4.0)\n",
            "Building wheels for collected packages: python-levenshtein\n",
            "  Building wheel for python-levenshtein (setup.py) ... \u001b[?25l\u001b[?25hdone\n",
            "  Created wheel for python-levenshtein: filename=python_Levenshtein-0.12.2-cp37-cp37m-linux_x86_64.whl size=149871 sha256=23d67b9ba36a4809a600a0f88661a825e0a2e8c8ded36c9f2af35f94d87c9796\n",
            "  Stored in directory: /root/.cache/pip/wheels/05/5f/ca/7c4367734892581bb5ff896f15027a932c551080b2abd3e00d\n",
            "Successfully built python-levenshtein\n",
            "Installing collected packages: python-levenshtein, fuzzywuzzy\n",
            "Successfully installed fuzzywuzzy-0.18.0 python-levenshtein-0.12.2\n"
          ]
        }
      ],
      "source": [
        "!pip install fuzzywuzzy[speedup]"
      ]
    },
    {
      "cell_type": "code",
      "source": [
        "from fuzzywuzzy import process"
      ],
      "metadata": {
        "id": "yJ3WXtK_Kwow"
      },
      "execution_count": 3,
      "outputs": []
    },
    {
      "cell_type": "code",
      "source": [
        "lista = ['pais', 'sua idade', 'sua cidade', 'quais seus gostos', 'onde voce mora', 'sua aparencia', 'conhecer pela internet', 'namora', 'onde você estuda', 'enviar foto', 'enviar audio', 'redes sociais', 'casa', 'posso te ver', 'sua fala', 'não conte para seus pais']\n",
        "\n",
        "texto = input('Digite o texto: ')\n",
        "\n",
        "process.extract(texto, lista)"
      ],
      "metadata": {
        "colab": {
          "base_uri": "https://localhost:8080/"
        },
        "id": "rkvuij_OLkVr",
        "outputId": "9dca7a5f-9a98-4c7e-dfd2-c931444a9d05"
      },
      "execution_count": 4,
      "outputs": [
        {
          "name": "stdout",
          "output_type": "stream",
          "text": [
            "Digite o texto: como é a sua aparencia?\n"
          ]
        },
        {
          "output_type": "execute_result",
          "data": {
            "text/plain": [
              "[('sua aparencia', 90),\n",
              " ('sua idade', 86),\n",
              " ('sua cidade', 86),\n",
              " ('sua fala', 86),\n",
              " ('enviar foto', 55)]"
            ]
          },
          "metadata": {},
          "execution_count": 4
        }
      ]
    },
    {
      "cell_type": "code",
      "source": [
        "def getMatch(field):\n",
        "  match_list = ['pais', 'sua idade', 'sua cidade', 'quais seus gostos', 'onde voce mora', 'sua aparencia', 'conhecer pela internet', 'namora', 'onde você estuda', 'enviar foto', 'enviar audio', 'redes sociais', 'casa', 'posso te ver', 'sua fala', 'não conte para seus pais']\n",
        "  search_list = process.extract(field, match_list)\n",
        "\n",
        "  result = []\n",
        "\n",
        "  for text in search_list:\n",
        "    if text[1] > 80:\n",
        "      result.append(text)\n",
        "\n",
        "  if len(result) == 0:\n",
        "    return 'Frase proibida? Não'\n",
        "  \n",
        "  return 'Frase proibida? Sim'\n",
        "\n",
        "getMatch(input('Digite o texto: '))"
      ],
      "metadata": {
        "colab": {
          "base_uri": "https://localhost:8080/",
          "height": 53
        },
        "id": "t76si1f1LmPJ",
        "outputId": "2f84778d-c8e2-4e33-ac50-95c91b701b7b"
      },
      "execution_count": 7,
      "outputs": [
        {
          "name": "stdout",
          "output_type": "stream",
          "text": [
            "Digite o texto: como é a sua aparencia?\n"
          ]
        },
        {
          "output_type": "execute_result",
          "data": {
            "text/plain": [
              "'Frase proibida? Sim'"
            ],
            "application/vnd.google.colaboratory.intrinsic+json": {
              "type": "string"
            }
          },
          "metadata": {},
          "execution_count": 7
        }
      ]
    }
  ]
}