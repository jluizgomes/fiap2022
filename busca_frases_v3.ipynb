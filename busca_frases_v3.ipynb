{
  "nbformat": 4,
  "nbformat_minor": 0,
  "metadata": {
    "colab": {
      "name": "Copy of busca_frases_v3.ipynb",
      "provenance": [],
      "authorship_tag": "ABX9TyMCugawM5YFgW27ljMq/mbA",
      "include_colab_link": true
    },
    "kernelspec": {
      "name": "python3",
      "display_name": "Python 3"
    },
    "language_info": {
      "name": "python"
    }
  },
  "cells": [
    {
      "cell_type": "markdown",
      "metadata": {
        "id": "view-in-github",
        "colab_type": "text"
      },
      "source": [
        "<a href=\"https://colab.research.google.com/github/jluizgomes/fiap2022/blob/main/busca_frases_v3.ipynb\" target=\"_parent\"><img src=\"https://colab.research.google.com/assets/colab-badge.svg\" alt=\"Open In Colab\"/></a>"
      ]
    },
    {
      "cell_type": "code",
      "execution_count": null,
      "metadata": {
        "id": "l9D0pP9_NLHL",
        "colab": {
          "base_uri": "https://localhost:8080/"
        },
        "outputId": "d3d77445-7ce4-433b-e106-776011013f21"
      },
      "outputs": [
        {
          "output_type": "stream",
          "name": "stdout",
          "text": [
            "\u001b[?25l\r\u001b[K     |▍                               | 10 kB 18.1 MB/s eta 0:00:01\r\u001b[K     |▉                               | 20 kB 15.5 MB/s eta 0:00:01\r\u001b[K     |█▎                              | 30 kB 7.8 MB/s eta 0:00:01\r\u001b[K     |█▊                              | 40 kB 6.9 MB/s eta 0:00:01\r\u001b[K     |██▏                             | 51 kB 5.6 MB/s eta 0:00:01\r\u001b[K     |██▋                             | 61 kB 6.5 MB/s eta 0:00:01\r\u001b[K     |███                             | 71 kB 6.7 MB/s eta 0:00:01\r\u001b[K     |███▌                            | 81 kB 6.4 MB/s eta 0:00:01\r\u001b[K     |████                            | 92 kB 7.0 MB/s eta 0:00:01\r\u001b[K     |████▍                           | 102 kB 6.8 MB/s eta 0:00:01\r\u001b[K     |████▉                           | 112 kB 6.8 MB/s eta 0:00:01\r\u001b[K     |█████▎                          | 122 kB 6.8 MB/s eta 0:00:01\r\u001b[K     |█████▊                          | 133 kB 6.8 MB/s eta 0:00:01\r\u001b[K     |██████▏                         | 143 kB 6.8 MB/s eta 0:00:01\r\u001b[K     |██████▋                         | 153 kB 6.8 MB/s eta 0:00:01\r\u001b[K     |███████                         | 163 kB 6.8 MB/s eta 0:00:01\r\u001b[K     |███████▌                        | 174 kB 6.8 MB/s eta 0:00:01\r\u001b[K     |████████                        | 184 kB 6.8 MB/s eta 0:00:01\r\u001b[K     |████████▍                       | 194 kB 6.8 MB/s eta 0:00:01\r\u001b[K     |████████▉                       | 204 kB 6.8 MB/s eta 0:00:01\r\u001b[K     |█████████▎                      | 215 kB 6.8 MB/s eta 0:00:01\r\u001b[K     |█████████▊                      | 225 kB 6.8 MB/s eta 0:00:01\r\u001b[K     |██████████▏                     | 235 kB 6.8 MB/s eta 0:00:01\r\u001b[K     |██████████▌                     | 245 kB 6.8 MB/s eta 0:00:01\r\u001b[K     |███████████                     | 256 kB 6.8 MB/s eta 0:00:01\r\u001b[K     |███████████▍                    | 266 kB 6.8 MB/s eta 0:00:01\r\u001b[K     |███████████▉                    | 276 kB 6.8 MB/s eta 0:00:01\r\u001b[K     |████████████▎                   | 286 kB 6.8 MB/s eta 0:00:01\r\u001b[K     |████████████▊                   | 296 kB 6.8 MB/s eta 0:00:01\r\u001b[K     |█████████████▏                  | 307 kB 6.8 MB/s eta 0:00:01\r\u001b[K     |█████████████▋                  | 317 kB 6.8 MB/s eta 0:00:01\r\u001b[K     |██████████████                  | 327 kB 6.8 MB/s eta 0:00:01\r\u001b[K     |██████████████▌                 | 337 kB 6.8 MB/s eta 0:00:01\r\u001b[K     |███████████████                 | 348 kB 6.8 MB/s eta 0:00:01\r\u001b[K     |███████████████▍                | 358 kB 6.8 MB/s eta 0:00:01\r\u001b[K     |███████████████▉                | 368 kB 6.8 MB/s eta 0:00:01\r\u001b[K     |████████████████▎               | 378 kB 6.8 MB/s eta 0:00:01\r\u001b[K     |████████████████▊               | 389 kB 6.8 MB/s eta 0:00:01\r\u001b[K     |█████████████████▏              | 399 kB 6.8 MB/s eta 0:00:01\r\u001b[K     |█████████████████▋              | 409 kB 6.8 MB/s eta 0:00:01\r\u001b[K     |██████████████████              | 419 kB 6.8 MB/s eta 0:00:01\r\u001b[K     |██████████████████▌             | 430 kB 6.8 MB/s eta 0:00:01\r\u001b[K     |███████████████████             | 440 kB 6.8 MB/s eta 0:00:01\r\u001b[K     |███████████████████▍            | 450 kB 6.8 MB/s eta 0:00:01\r\u001b[K     |███████████████████▉            | 460 kB 6.8 MB/s eta 0:00:01\r\u001b[K     |████████████████████▎           | 471 kB 6.8 MB/s eta 0:00:01\r\u001b[K     |████████████████████▋           | 481 kB 6.8 MB/s eta 0:00:01\r\u001b[K     |█████████████████████           | 491 kB 6.8 MB/s eta 0:00:01\r\u001b[K     |█████████████████████▌          | 501 kB 6.8 MB/s eta 0:00:01\r\u001b[K     |██████████████████████          | 512 kB 6.8 MB/s eta 0:00:01\r\u001b[K     |██████████████████████▍         | 522 kB 6.8 MB/s eta 0:00:01\r\u001b[K     |██████████████████████▉         | 532 kB 6.8 MB/s eta 0:00:01\r\u001b[K     |███████████████████████▎        | 542 kB 6.8 MB/s eta 0:00:01\r\u001b[K     |███████████████████████▊        | 552 kB 6.8 MB/s eta 0:00:01\r\u001b[K     |████████████████████████▏       | 563 kB 6.8 MB/s eta 0:00:01\r\u001b[K     |████████████████████████▋       | 573 kB 6.8 MB/s eta 0:00:01\r\u001b[K     |█████████████████████████       | 583 kB 6.8 MB/s eta 0:00:01\r\u001b[K     |█████████████████████████▌      | 593 kB 6.8 MB/s eta 0:00:01\r\u001b[K     |██████████████████████████      | 604 kB 6.8 MB/s eta 0:00:01\r\u001b[K     |██████████████████████████▍     | 614 kB 6.8 MB/s eta 0:00:01\r\u001b[K     |██████████████████████████▉     | 624 kB 6.8 MB/s eta 0:00:01\r\u001b[K     |███████████████████████████▎    | 634 kB 6.8 MB/s eta 0:00:01\r\u001b[K     |███████████████████████████▊    | 645 kB 6.8 MB/s eta 0:00:01\r\u001b[K     |████████████████████████████▏   | 655 kB 6.8 MB/s eta 0:00:01\r\u001b[K     |████████████████████████████▋   | 665 kB 6.8 MB/s eta 0:00:01\r\u001b[K     |█████████████████████████████   | 675 kB 6.8 MB/s eta 0:00:01\r\u001b[K     |█████████████████████████████▌  | 686 kB 6.8 MB/s eta 0:00:01\r\u001b[K     |██████████████████████████████  | 696 kB 6.8 MB/s eta 0:00:01\r\u001b[K     |██████████████████████████████▍ | 706 kB 6.8 MB/s eta 0:00:01\r\u001b[K     |██████████████████████████████▊ | 716 kB 6.8 MB/s eta 0:00:01\r\u001b[K     |███████████████████████████████▏| 727 kB 6.8 MB/s eta 0:00:01\r\u001b[K     |███████████████████████████████▋| 737 kB 6.8 MB/s eta 0:00:01\r\u001b[K     |████████████████████████████████| 745 kB 6.8 MB/s \n",
            "\u001b[?25h  Building wheel for pyngrok (setup.py) ... \u001b[?25l\u001b[?25hdone\n",
            "\u001b[K     |████████████████████████████████| 10.1 MB 10.6 MB/s \n",
            "\u001b[K     |████████████████████████████████| 111 kB 71.1 MB/s \n",
            "\u001b[K     |████████████████████████████████| 76 kB 4.4 MB/s \n",
            "\u001b[K     |████████████████████████████████| 4.3 MB 40.1 MB/s \n",
            "\u001b[K     |████████████████████████████████| 164 kB 41.1 MB/s \n",
            "\u001b[K     |████████████████████████████████| 181 kB 61.0 MB/s \n",
            "\u001b[K     |████████████████████████████████| 63 kB 1.4 MB/s \n",
            "\u001b[K     |████████████████████████████████| 130 kB 71.5 MB/s \n",
            "\u001b[K     |████████████████████████████████| 793 kB 46.5 MB/s \n",
            "\u001b[K     |████████████████████████████████| 380 kB 36.8 MB/s \n",
            "\u001b[?25h  Building wheel for blinker (setup.py) ... \u001b[?25l\u001b[?25hdone\n",
            "\u001b[31mERROR: pip's dependency resolver does not currently take into account all the packages that are installed. This behaviour is the source of the following dependency conflicts.\n",
            "jupyter-console 5.2.0 requires prompt-toolkit<2.0.0,>=1.0.0, but you have prompt-toolkit 3.0.28 which is incompatible.\n",
            "google-colab 1.0.0 requires ipykernel~=4.10, but you have ipykernel 6.10.0 which is incompatible.\n",
            "google-colab 1.0.0 requires ipython~=5.5.0, but you have ipython 7.32.0 which is incompatible.\u001b[0m\n",
            "\u001b[K     |████████████████████████████████| 3.6 MB 8.6 MB/s \n",
            "\u001b[?25h"
          ]
        }
      ],
      "source": [
        "!pip install -q pyngrok\n",
        "!pip install -q streamlit\n",
        "!pip install -q streamlit_ace"
      ]
    },
    {
      "cell_type": "code",
      "source": [
        "!streamlit run app.py &>dev/null&"
      ],
      "metadata": {
        "id": "r1JHyLZjOIYY",
        "colab": {
          "base_uri": "https://localhost:8080/"
        },
        "outputId": "226a8176-2909-4dc0-9f3d-095b31b1c4df"
      },
      "execution_count": null,
      "outputs": [
        {
          "output_type": "stream",
          "name": "stdout",
          "text": [
            "/bin/bash: dev/null: No such file or directory\n"
          ]
        }
      ]
    },
    {
      "cell_type": "code",
      "source": [
        "from pyngrok import ngrok"
      ],
      "metadata": {
        "id": "4RinIEq6OTV6"
      },
      "execution_count": null,
      "outputs": []
    },
    {
      "cell_type": "code",
      "source": [
        "# Comando para criar o sistema de arquivo app.py\n",
        "%%writefile app.py\n",
        "\n",
        "# Importando Pacotes\n",
        "import streamlit as st\n",
        "import re\n",
        "\n",
        "# Essa função é para a criação da webpage\n",
        "\n",
        "def main():\n",
        "  html_temp = \"\"\"\n",
        "  <div style=\"background-color: red;padding: 13px;\">\n",
        "  <h1 style=\"color: white; text-align: center;\">iFood</h1>\n",
        "  </div>\n",
        "  \"\"\""
      ],
      "metadata": {
        "id": "rSViiH5TOZqm",
        "colab": {
          "base_uri": "https://localhost:8080/"
        },
        "outputId": "ae1b710e-055f-415d-f93a-fa035cd22dc5"
      },
      "execution_count": null,
      "outputs": [
        {
          "output_type": "stream",
          "name": "stdout",
          "text": [
            "Writing app.py\n"
          ]
        }
      ]
    }
  ]
}