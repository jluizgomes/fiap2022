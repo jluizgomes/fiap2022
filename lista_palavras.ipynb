{
  "nbformat": 4,
  "nbformat_minor": 0,
  "metadata": {
    "colab": {
      "name": "lista_palavras.ipynb",
      "provenance": [],
      "collapsed_sections": [],
      "authorship_tag": "ABX9TyMDE9zTlSkbvZp1ouC/lXni",
      "include_colab_link": true
    },
    "kernelspec": {
      "name": "python3",
      "display_name": "Python 3"
    },
    "language_info": {
      "name": "python"
    }
  },
  "cells": [
    {
      "cell_type": "markdown",
      "metadata": {
        "id": "view-in-github",
        "colab_type": "text"
      },
      "source": [
        "<a href=\"https://colab.research.google.com/github/jluizgomes/fiap2022/blob/main/lista_palavras.ipynb\" target=\"_parent\"><img src=\"https://colab.research.google.com/assets/colab-badge.svg\" alt=\"Open In Colab\"/></a>"
      ]
    },
    {
      "cell_type": "markdown",
      "source": [
        "# Identificar possíveis agressores sexuais."
      ],
      "metadata": {
        "id": "6cJUH2yHFD_A"
      }
    },
    {
      "cell_type": "code",
      "source": [
        "import re"
      ],
      "metadata": {
        "id": "N_DlA4zd4ewQ"
      },
      "execution_count": null,
      "outputs": []
    },
    {
      "cell_type": "code",
      "source": [
        "# pais, sua idade, sua cidade, quais seus gostos?, onde voce mora?, como voce é?, voce ja conheceu alguem da internet?, voce namora?, onde voce estuda?, manda foto, manda um audio seu, voce tem facebook?, voce tem instagram?, voce tem tik tok?, gostei da sua foto de perfil, manda foto do rosto, gosta de animais?, seus pais estão em casa?, voce gosta de shopping?, voce gosta de cinema?, posso te ver?, manda foto de agora, gosto da forma que voce fala, estava pensando em voce, nao conte para seus pais\n",
        "\n",
        "\n",
        "lista = ['pais', 'sua idade', 'sua cidade', 'quais seus gostos', 'onde voce mora', 'sua aparencia', 'conhecer pela internet', 'namora', 'onde você estuda', 'enviar foto', 'enviar audio', 'redes sociais', 'casa', 'posso te ver', 'sua fala', 'não conte para seus pais']\n",
        "\n",
        "texto = input() \n",
        "\n",
        "if texto in lista:\n",
        "  print('Palavra proibida')\n",
        "else:\n",
        "  print('Palavra permitida')"
      ],
      "metadata": {
        "id": "QVZoakVTFQoG",
        "colab": {
          "base_uri": "https://localhost:8080/"
        },
        "outputId": "2025a3a6-e5c0-43b2-bb34-6e15e70fc4ce"
      },
      "execution_count": null,
      "outputs": [
        {
          "output_type": "stream",
          "name": "stdout",
          "text": [
            "você é legal\n",
            "Palavra permitida\n"
          ]
        }
      ]
    },
    {
      "cell_type": "code",
      "source": [
        "\n",
        "def getMatchRegex(field):\n",
        "  match = re.search('(?i)(pais)|(pai)|(mãe)|(idade)|(cidade)|(gostos)|(mora(r))|(aparencia)|(conhecer)|(internet)|(namora(r))|(estuda(r))|(foto)|(audio)|(casa)|(ver)|(fala)|(cont(e|ar)|(nud(e|es))|(sa(i|ir))|(escola))', field.lower())\n",
        "\n",
        "  if match:\n",
        "    print('Palavra proibida? Sim')\n",
        "  else:\n",
        "    print('Palavra proibida? Não')\n",
        "\n",
        "getMatchRegex(input())"
      ],
      "metadata": {
        "colab": {
          "base_uri": "https://localhost:8080/"
        },
        "id": "i8GVBZNC3jQd",
        "outputId": "457653cd-7782-412a-e92c-c100df2a6ab4"
      },
      "execution_count": null,
      "outputs": [
        {
          "output_type": "stream",
          "name": "stdout",
          "text": [
            "Qual é sua idade?\n",
            "Palavra proibida? Sim\n"
          ]
        }
      ]
    }
  ]
}